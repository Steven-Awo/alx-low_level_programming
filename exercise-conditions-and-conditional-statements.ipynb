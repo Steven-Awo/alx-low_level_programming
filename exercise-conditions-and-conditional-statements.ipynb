{
 "cells": [
  {
   "cell_type": "markdown",
   "id": "2353a56b",
   "metadata": {
    "papermill": {
     "duration": 0.012638,
     "end_time": "2023-08-31T13:28:12.687754",
     "exception": false,
     "start_time": "2023-08-31T13:28:12.675116",
     "status": "completed"
    },
    "tags": []
   },
   "source": [
    "**This notebook is an exercise in the [Intro to Programming](https://www.kaggle.com/learn/intro-to-programming) course.  You can reference the tutorial at [this link](https://www.kaggle.com/alexisbcook/conditions-and-conditional-statements).**\n",
    "\n",
    "---\n"
   ]
  },
  {
   "cell_type": "markdown",
   "id": "1ec10d29",
   "metadata": {
    "papermill": {
     "duration": 0.011452,
     "end_time": "2023-08-31T13:28:12.711423",
     "exception": false,
     "start_time": "2023-08-31T13:28:12.699971",
     "status": "completed"
    },
    "tags": []
   },
   "source": [
    "In the tutorial, you learned about conditions and conditional statements. In this exercise, you will use what you learned to answer several questions.\n",
    "\n",
    "# Set up the notebook\n",
    "\n",
    "Run the next code cell without changes to set up the notebook."
   ]
  },
  {
   "cell_type": "code",
   "execution_count": 1,
   "id": "43491e57",
   "metadata": {
    "execution": {
     "iopub.execute_input": "2023-08-31T13:28:12.736877Z",
     "iopub.status.busy": "2023-08-31T13:28:12.736439Z",
     "iopub.status.idle": "2023-08-31T13:28:12.793488Z",
     "shell.execute_reply": "2023-08-31T13:28:12.791981Z"
    },
    "papermill": {
     "duration": 0.074131,
     "end_time": "2023-08-31T13:28:12.797422",
     "exception": false,
     "start_time": "2023-08-31T13:28:12.723291",
     "status": "completed"
    },
    "tags": []
   },
   "outputs": [
    {
     "name": "stdout",
     "output_type": "stream",
     "text": [
      "Setup complete.\n"
     ]
    }
   ],
   "source": [
    "from learntools.core import binder\n",
    "binder.bind(globals())\n",
    "from learntools.intro_to_programming.ex4 import *\n",
    "print('Setup complete.')"
   ]
  },
  {
   "cell_type": "code",
   "execution_count": 2,
   "id": "efa4f6df",
   "metadata": {
    "execution": {
     "iopub.execute_input": "2023-08-31T13:28:12.825410Z",
     "iopub.status.busy": "2023-08-31T13:28:12.824909Z",
     "iopub.status.idle": "2023-08-31T13:28:12.832207Z",
     "shell.execute_reply": "2023-08-31T13:28:12.830724Z"
    },
    "papermill": {
     "duration": 0.025016,
     "end_time": "2023-08-31T13:28:12.836272",
     "exception": false,
     "start_time": "2023-08-31T13:28:12.811256",
     "status": "completed"
    },
    "tags": []
   },
   "outputs": [
    {
     "name": "stdout",
     "output_type": "stream",
     "text": [
      "Setup complete.\n"
     ]
    }
   ],
   "source": [
    "from learntools.core import binder\n",
    "binder.bind(globals())\n",
    "from learntools.intro_to_programming.ex4 import *\n",
    "print('Setup complete.')"
   ]
  },
  {
   "cell_type": "markdown",
   "id": "05119a3b",
   "metadata": {
    "papermill": {
     "duration": 0.013159,
     "end_time": "2023-08-31T13:28:12.863596",
     "exception": false,
     "start_time": "2023-08-31T13:28:12.850437",
     "status": "completed"
    },
    "tags": []
   },
   "source": [
    "# Question 1\n",
    "\n",
    "You work at a college admissions office.  When inspecting a dataset of college applicants, you notice that some students have represented their grades with letters (`\"A\"`, `\"B\"`, `\"C\"`, `\"D\"`, `\"F\"`), whereas others have represented their grades with a number between 0 and 100.\n",
    "\n",
    "You realize that for consistency, all of the grades should be formatted in the same way, and you decide to format them all as letters.  For the conversion, you decide to assign:\n",
    "- `\"A\"` - any grade 90-100, inclusive\n",
    "- `\"B\"` - any grade 80-89, inclusive\n",
    "- `\"C\"` - any grade 70-79, inclusive\n",
    "- `\"D\"` - any grade 60-69, inclusive\n",
    "- `\"F\"` - any grade <60\n",
    "\n",
    "Write a function `get_grade()` that takes as input:\n",
    "- `score` - an integer 0-100 corresponding to a numerical grade\n",
    "\n",
    "It should return a Python string with the letter grade that it corresponds to.  For instance,\n",
    "- A score of 85 corresponds to a B grade.  In other words, `get_grade(85)` should return `\"B\"`.\n",
    "- A score of 49 corresponds to an F grade.  In other words, `get_grade(49)` should return `\"F\"`.\n",
    "\n",
    "Make sure that when supplying the grade that is returned by the function, it is enclosed in quotes.  (For instance, if you want to return `\"A\"`, you should write `return \"A\"` and not `return A`.)"
   ]
  },
  {
   "cell_type": "code",
   "execution_count": 3,
   "id": "06fc0422",
   "metadata": {
    "execution": {
     "iopub.execute_input": "2023-08-31T13:28:12.893034Z",
     "iopub.status.busy": "2023-08-31T13:28:12.891685Z",
     "iopub.status.idle": "2023-08-31T13:28:12.908457Z",
     "shell.execute_reply": "2023-08-31T13:28:12.907163Z"
    },
    "papermill": {
     "duration": 0.035297,
     "end_time": "2023-08-31T13:28:12.911737",
     "exception": false,
     "start_time": "2023-08-31T13:28:12.876440",
     "status": "completed"
    },
    "tags": []
   },
   "outputs": [
    {
     "data": {
      "application/javascript": [
       "parent.postMessage({\"jupyterEvent\": \"custom.exercise_interaction\", \"data\": {\"outcomeType\": 1, \"valueTowardsCompletion\": 0.2, \"interactionType\": 1, \"questionType\": 2, \"questionId\": \"1_GetGrade\", \"learnToolsVersion\": \"0.3.4\", \"failureMessage\": \"\", \"exceptionClass\": \"\", \"trace\": \"\"}}, \"*\")"
      ],
      "text/plain": [
       "<IPython.core.display.Javascript object>"
      ]
     },
     "metadata": {},
     "output_type": "display_data"
    },
    {
     "data": {
      "text/markdown": [
       "<span style=\"color:#33cc33\">Correct</span>"
      ],
      "text/plain": [
       "Correct"
      ]
     },
     "metadata": {},
     "output_type": "display_data"
    }
   ],
   "source": [
    "# TODO: Edit the function to return the correct grade for different scores\n",
    "def get_grade(score):\n",
    "    if score >= 90 and score <= 100:\n",
    "        grade = \"A\"\n",
    "    elif score >= 80 and score < 90:\n",
    "        grade = \"B\"\n",
    "    elif score >= 70 and score < 80:\n",
    "        grade = \"C\"\n",
    "    elif score >= 60 and score < 70:\n",
    "        grade = \"D\"\n",
    "    else:\n",
    "        grade = \"F\"\n",
    "    return grade\n",
    "    \n",
    "# Check your answer\n",
    "q1.check()"
   ]
  },
  {
   "cell_type": "code",
   "execution_count": 4,
   "id": "f2592a2e",
   "metadata": {
    "execution": {
     "iopub.execute_input": "2023-08-31T13:28:12.939936Z",
     "iopub.status.busy": "2023-08-31T13:28:12.939539Z",
     "iopub.status.idle": "2023-08-31T13:28:12.944113Z",
     "shell.execute_reply": "2023-08-31T13:28:12.943052Z"
    },
    "papermill": {
     "duration": 0.02229,
     "end_time": "2023-08-31T13:28:12.946894",
     "exception": false,
     "start_time": "2023-08-31T13:28:12.924604",
     "status": "completed"
    },
    "tags": []
   },
   "outputs": [],
   "source": [
    "# Uncomment to see a hint\n",
    "#q1.hint()\n",
    "\n",
    "# Uncomment to see the solution\n",
    "#q1.solution()"
   ]
  },
  {
   "cell_type": "markdown",
   "id": "5fd7a521",
   "metadata": {
    "papermill": {
     "duration": 0.012781,
     "end_time": "2023-08-31T13:28:12.973032",
     "exception": false,
     "start_time": "2023-08-31T13:28:12.960251",
     "status": "completed"
    },
    "tags": []
   },
   "source": [
    "# Question 2\n",
    "\n",
    "In the exercise for the previous lesson, you wrote a function `cost_of_project()` that estimated the price of rings for an online shop that sells rings with custom engravings.  This function did not use conditional statements.  In this exercise, you will rewrite the function to use conditional statements.  Recall that the online shop has the following price structure:\n",
    "- Gold plated rings have a base cost of \\\\$50, and you charge \\\\$7 per engraved unit.  \n",
    "- Solid gold rings have a base cost of \\\\$100, and you charge \\\\$10 per engraved unit.\n",
    "- Spaces and punctuation are counted as engraved units.\n",
    "\n",
    "Your function `cost_of_project()` takes two arguments:\n",
    "- `engraving` - a Python string with the text of the engraving\n",
    "- `solid_gold` - a Boolean that indicates whether the ring is solid gold\n",
    "\n",
    "It should return the cost of the project.  \n",
    "\n",
    "The function has been partially completed for you, and you need to fill in the blanks to complete the function."
   ]
  },
  {
   "cell_type": "code",
   "execution_count": 5,
   "id": "7adc8997",
   "metadata": {
    "execution": {
     "iopub.execute_input": "2023-08-31T13:28:13.002203Z",
     "iopub.status.busy": "2023-08-31T13:28:13.001581Z",
     "iopub.status.idle": "2023-08-31T13:28:13.013299Z",
     "shell.execute_reply": "2023-08-31T13:28:13.012402Z"
    },
    "papermill": {
     "duration": 0.034093,
     "end_time": "2023-08-31T13:28:13.020188",
     "exception": false,
     "start_time": "2023-08-31T13:28:12.986095",
     "status": "completed"
    },
    "tags": []
   },
   "outputs": [
    {
     "data": {
      "application/javascript": [
       "parent.postMessage({\"jupyterEvent\": \"custom.exercise_interaction\", \"data\": {\"outcomeType\": 1, \"valueTowardsCompletion\": 0.2, \"interactionType\": 1, \"questionType\": 2, \"questionId\": \"2_CostProjectPartDeux\", \"learnToolsVersion\": \"0.3.4\", \"failureMessage\": \"\", \"exceptionClass\": \"\", \"trace\": \"\"}}, \"*\")"
      ],
      "text/plain": [
       "<IPython.core.display.Javascript object>"
      ]
     },
     "metadata": {},
     "output_type": "display_data"
    },
    {
     "data": {
      "text/markdown": [
       "<span style=\"color:#33cc33\">Correct</span>"
      ],
      "text/plain": [
       "Correct"
      ]
     },
     "metadata": {},
     "output_type": "display_data"
    }
   ],
   "source": [
    "def cost_of_project(engraving, solid_gold):\n",
    "    \n",
    "    if solid_gold == True:\n",
    "        cost = (100 + 10 * len(engraving))\n",
    "    else:\n",
    "        cost = (50 + 7 * len(engraving))\n",
    "    return cost\n",
    "\n",
    "# Check your answer\n",
    "q2.check()"
   ]
  },
  {
   "cell_type": "code",
   "execution_count": 6,
   "id": "1f05fd40",
   "metadata": {
    "execution": {
     "iopub.execute_input": "2023-08-31T13:28:13.048008Z",
     "iopub.status.busy": "2023-08-31T13:28:13.047586Z",
     "iopub.status.idle": "2023-08-31T13:28:13.052576Z",
     "shell.execute_reply": "2023-08-31T13:28:13.051333Z"
    },
    "papermill": {
     "duration": 0.022312,
     "end_time": "2023-08-31T13:28:13.055257",
     "exception": false,
     "start_time": "2023-08-31T13:28:13.032945",
     "status": "completed"
    },
    "tags": []
   },
   "outputs": [],
   "source": [
    "# Uncomment to see a hint\n",
    "#q2.hint()\n",
    "\n",
    "# Uncomment to see the solution\n",
    "#q2.solution()"
   ]
  },
  {
   "cell_type": "markdown",
   "id": "f0dd72c0",
   "metadata": {
    "papermill": {
     "duration": 0.012522,
     "end_time": "2023-08-31T13:28:13.081285",
     "exception": false,
     "start_time": "2023-08-31T13:28:13.068763",
     "status": "completed"
    },
    "tags": []
   },
   "source": [
    "# Question 3\n",
    "\n",
    "You are a programmer at a water agency.  Recently, you have been tasked to write a function `get_water_bill()` that takes as input:\n",
    "- `num_gallons` = the number of gallons of water that a customer used that month.  (This will always be an integer with no decimal part.)\n",
    "\n",
    "It should output the water bill.  \n",
    "\n",
    "The water agency uses this pricing structure:\n",
    "<table style=\"width: 100%;\">\n",
    "<tbody>\n",
    "<tr><th><b>Tier</b></th><th><b>Amount in gallons</b></th><th><b>Price per 1000 gallons</b></th></tr>\n",
    "<tr>\n",
    "<td>Tier 1</td>\n",
    "<td>0 - 8,000</td>\n",
    "<td>\\$5</td>\n",
    "</tr>\n",
    "<tr>\n",
    "<td>Tier 2</td>\n",
    "<td>8,001 - 22,000</td>\n",
    "<td>\\$6</td>\n",
    "</tr>\n",
    "<tr>\n",
    "<td>Tier 3</td>\n",
    "<td>22,001 - 30,000</td>\n",
    "<td>\\$7</td>\n",
    "</tr>\n",
    "<tr>\n",
    "<td>Tier 4</td>\n",
    "<td>30,001+</td>\n",
    "<td>\\$10</td>\n",
    "</tr>\n",
    "</tbody>\n",
    "</table>\n",
    "\n",
    "For example: \n",
    "- Someone who uses 10,000 gallons of water in a month is placed in Tier 2, and needs to pay a water bill of \\\\$6 * 10 = \\\\$60.  In other words, `get_water_bill(10000)` should return `60.0`.\n",
    "- Someone who uses 25,000 gallons of water in a month is placed in Tier 3, and needs to pay a water bill of \\\\$7 * 25 = \\\\$175.  In other words, `get_water_bill(25000)` should return `175.0`.\n",
    "\n",
    "**Do not round your answer.**  So, your answer might return fractions of a penny."
   ]
  },
  {
   "cell_type": "code",
   "execution_count": 7,
   "id": "28178237",
   "metadata": {
    "execution": {
     "iopub.execute_input": "2023-08-31T13:28:13.110315Z",
     "iopub.status.busy": "2023-08-31T13:28:13.109895Z",
     "iopub.status.idle": "2023-08-31T13:28:13.121099Z",
     "shell.execute_reply": "2023-08-31T13:28:13.120037Z"
    },
    "papermill": {
     "duration": 0.029145,
     "end_time": "2023-08-31T13:28:13.124127",
     "exception": false,
     "start_time": "2023-08-31T13:28:13.094982",
     "status": "completed"
    },
    "tags": []
   },
   "outputs": [
    {
     "data": {
      "application/javascript": [
       "parent.postMessage({\"jupyterEvent\": \"custom.exercise_interaction\", \"data\": {\"outcomeType\": 1, \"valueTowardsCompletion\": 0.2, \"interactionType\": 1, \"questionType\": 2, \"questionId\": \"3_GetWaterBill\", \"learnToolsVersion\": \"0.3.4\", \"failureMessage\": \"\", \"exceptionClass\": \"\", \"trace\": \"\"}}, \"*\")"
      ],
      "text/plain": [
       "<IPython.core.display.Javascript object>"
      ]
     },
     "metadata": {},
     "output_type": "display_data"
    },
    {
     "data": {
      "text/markdown": [
       "<span style=\"color:#33cc33\">Correct</span>"
      ],
      "text/plain": [
       "Correct"
      ]
     },
     "metadata": {},
     "output_type": "display_data"
    }
   ],
   "source": [
    "# TODO: Edit the function to return the correct bill for different\n",
    "# values of num_gallons\n",
    "def get_water_bill(num_gallons):\n",
    "    if num_gallons <= 8000:\n",
    "        bill = (num_gallons / 1000) * 5\n",
    "    elif num_gallons > 8000 and num_gallons <= 22000:\n",
    "        bill = (num_gallons / 1000) * 6\n",
    "    elif num_gallons > 22000  and num_gallons <= 30000:\n",
    "        bill = (num_gallons / 1000) * 7\n",
    "    else:\n",
    "        bill = (num_gallons / 1000) * 10 \n",
    "    return bill\n",
    "\n",
    "# Check your answer\n",
    "q3.check()"
   ]
  },
  {
   "cell_type": "code",
   "execution_count": 8,
   "id": "84ed07a3",
   "metadata": {
    "execution": {
     "iopub.execute_input": "2023-08-31T13:28:13.153918Z",
     "iopub.status.busy": "2023-08-31T13:28:13.153519Z",
     "iopub.status.idle": "2023-08-31T13:28:13.157886Z",
     "shell.execute_reply": "2023-08-31T13:28:13.156822Z"
    },
    "papermill": {
     "duration": 0.022804,
     "end_time": "2023-08-31T13:28:13.160371",
     "exception": false,
     "start_time": "2023-08-31T13:28:13.137567",
     "status": "completed"
    },
    "tags": []
   },
   "outputs": [],
   "source": [
    "# Uncomment to see a hint\n",
    "#q3.hint()\n",
    "\n",
    "# Uncomment to see the solution\n",
    "#q3.solution()"
   ]
  },
  {
   "cell_type": "markdown",
   "id": "206fee1a",
   "metadata": {
    "papermill": {
     "duration": 0.014026,
     "end_time": "2023-08-31T13:28:13.188260",
     "exception": false,
     "start_time": "2023-08-31T13:28:13.174234",
     "status": "completed"
    },
    "tags": []
   },
   "source": [
    "# Question 4\n",
    "\n",
    "You work for a company that provides data services.  For \\\\$100/month, your company provides 15 gigabytes (GB) of data.  Then, any additional data is billed at \\\\$0.10/MB (or \\\\$100/GB, since 1,000 MB are in 1 GB).\n",
    "\n",
    "Use the next code cell to write a function `get_phone_bill()` that takes as input:\n",
    "- `gb` = number of GB that the customer used in a month\n",
    "\n",
    "It should return the customer's total phone bill.\n",
    "\n",
    "For instance:\n",
    "- A customer who uses 10 GB of data in one month is billed only \\\\$100, since the usage stayed under 15 GB.  In other words, `get_phone_bill(10)` should return `100`.\n",
    "- A customer who uses 15.1 GB (or 15 GB + 100 MB) of data in one month has gone over by .1 GB, so they must pay \\\\$100 (cost of plan), plus \\\\$0.10 * 100 = \\\\$10, for a total bill of \\\\$110.  In other words, `get_phone_bill(15.1)` should return `110`.\n",
    "\n",
    "Do not round your answer."
   ]
  },
  {
   "cell_type": "code",
   "execution_count": 9,
   "id": "a3f9aa0b",
   "metadata": {
    "execution": {
     "iopub.execute_input": "2023-08-31T13:28:13.218218Z",
     "iopub.status.busy": "2023-08-31T13:28:13.217794Z",
     "iopub.status.idle": "2023-08-31T13:28:13.227684Z",
     "shell.execute_reply": "2023-08-31T13:28:13.226654Z"
    },
    "papermill": {
     "duration": 0.028687,
     "end_time": "2023-08-31T13:28:13.230576",
     "exception": false,
     "start_time": "2023-08-31T13:28:13.201889",
     "status": "completed"
    },
    "tags": []
   },
   "outputs": [
    {
     "data": {
      "application/javascript": [
       "parent.postMessage({\"jupyterEvent\": \"custom.exercise_interaction\", \"data\": {\"outcomeType\": 1, \"valueTowardsCompletion\": 0.2, \"interactionType\": 1, \"questionType\": 2, \"questionId\": \"4_GetPhoneBill\", \"learnToolsVersion\": \"0.3.4\", \"failureMessage\": \"\", \"exceptionClass\": \"\", \"trace\": \"\"}}, \"*\")"
      ],
      "text/plain": [
       "<IPython.core.display.Javascript object>"
      ]
     },
     "metadata": {},
     "output_type": "display_data"
    },
    {
     "data": {
      "text/markdown": [
       "<span style=\"color:#33cc33\">Correct</span>"
      ],
      "text/plain": [
       "Correct"
      ]
     },
     "metadata": {},
     "output_type": "display_data"
    }
   ],
   "source": [
    "# TODO: Edit the function to return the correct bill for different\n",
    "# values of GB\n",
    "def get_phone_bill(gb):\n",
    "    if gb > 15:\n",
    "        bill = 100 + ((((gb) - 15) * 1000) * 0.10)\n",
    "    else:\n",
    "        bill = 100\n",
    "    return bill\n",
    "\n",
    "# Check your answer\n",
    "q4.check()"
   ]
  },
  {
   "cell_type": "code",
   "execution_count": 10,
   "id": "d9a68cf7",
   "metadata": {
    "execution": {
     "iopub.execute_input": "2023-08-31T13:28:13.261569Z",
     "iopub.status.busy": "2023-08-31T13:28:13.261166Z",
     "iopub.status.idle": "2023-08-31T13:28:13.270232Z",
     "shell.execute_reply": "2023-08-31T13:28:13.269439Z"
    },
    "papermill": {
     "duration": 0.027339,
     "end_time": "2023-08-31T13:28:13.272731",
     "exception": false,
     "start_time": "2023-08-31T13:28:13.245392",
     "status": "completed"
    },
    "tags": []
   },
   "outputs": [
    {
     "data": {
      "application/javascript": [
       "parent.postMessage({\"jupyterEvent\": \"custom.exercise_interaction\", \"data\": {\"outcomeType\": 1, \"valueTowardsCompletion\": 0.2, \"interactionType\": 1, \"questionType\": 2, \"questionId\": \"4_GetPhoneBill\", \"learnToolsVersion\": \"0.3.4\", \"failureMessage\": \"\", \"exceptionClass\": \"\", \"trace\": \"\"}}, \"*\")"
      ],
      "text/plain": [
       "<IPython.core.display.Javascript object>"
      ]
     },
     "metadata": {},
     "output_type": "display_data"
    },
    {
     "data": {
      "text/markdown": [
       "<span style=\"color:#33cc33\">Correct</span>"
      ],
      "text/plain": [
       "Correct"
      ]
     },
     "metadata": {},
     "output_type": "display_data"
    }
   ],
   "source": [
    "# TODO: Edit the function to return the correct bill for different\n",
    "# values of GB\n",
    "def get_phone_bill(gb):\n",
    "    if gb > 15:\n",
    "        bill = 100 + ((((gb) - 15) * 1000) * 0.10)\n",
    "    else:\n",
    "        bill = 100\n",
    "    return bill\n",
    "\n",
    "# Check your answer\n",
    "q4.check()"
   ]
  },
  {
   "cell_type": "code",
   "execution_count": 11,
   "id": "a3b45200",
   "metadata": {
    "execution": {
     "iopub.execute_input": "2023-08-31T13:28:13.302781Z",
     "iopub.status.busy": "2023-08-31T13:28:13.302366Z",
     "iopub.status.idle": "2023-08-31T13:28:13.306741Z",
     "shell.execute_reply": "2023-08-31T13:28:13.305921Z"
    },
    "papermill": {
     "duration": 0.021843,
     "end_time": "2023-08-31T13:28:13.308893",
     "exception": false,
     "start_time": "2023-08-31T13:28:13.287050",
     "status": "completed"
    },
    "tags": []
   },
   "outputs": [],
   "source": [
    "# Uncomment to see a hint\n",
    "#q4.hint()\n",
    "\n",
    "# Uncomment to see the solution\n",
    "#q4.solution()"
   ]
  },
  {
   "cell_type": "markdown",
   "id": "3b66488c",
   "metadata": {
    "papermill": {
     "duration": 0.015081,
     "end_time": "2023-08-31T13:28:13.338200",
     "exception": false,
     "start_time": "2023-08-31T13:28:13.323119",
     "status": "completed"
    },
    "tags": []
   },
   "source": [
    "# 🌶️ Question 5\n",
    "\n",
    "In Mexico, foods and beverages that are high in saturated fat, trans fat, sugar, sodium, and/or calories appear with warning labels that are designed to help consumers make healthy food choices.\n",
    "\n",
    "For instance, the [box of cookies](https://world.openfoodfacts.org/product/7501000673209/florentinas-gamesa) in the image below appears with two labels (in the upper right corner):\n",
    "- EXCESO CALORÍAS (in English, EXCESS CALORIES)\n",
    "- EXCESO AZÚCARES (in English, EXCESS SUGAR)\n",
    "\n",
    "<center><img src=\"https://storage.googleapis.com/kaggle-media/learn/images/VXYKHnM.png\" alt=\"drawing\" width=\"500\"/></center>\n",
    "\n",
    "In this question, you'll work with a function `get_labels()` that takes the nutritional details about a food item and prints the needed warning labels.  This function takes several inputs:\n",
    "- `food_type` = one of `\"solid\"` or `\"liquid\"`\n",
    "- `serving_size` = size of one serving (if solid, in grams; if liquid, in milliliters)\n",
    "- `calories_per_serving` = calories in one serving\n",
    "- `saturated_fat_g` = grams of saturated fat in one serving\n",
    "- `trans_fat_g` = grams of trans fat in one serving\n",
    "- `sodium_mg` = mg of sodium in one serving\n",
    "- `sugars_g` = grams of sugar in one serving\n",
    "\n",
    "Note that some of the code here should feel unfamiliar to you, since we have not shared the details of how some of the functions like `excess_sugar()` or `excess_saturated_fat()` work.  But at a high level, these are functions that return a value of `True` if the food is deemed to have an excess of sugar or saturated fat, respectively.  These functions are used within the `get_labels()` function, and whenever there is an excess (of sugar or saturated fat, but also of trans fat, sodium, or calories), it prints the corresponding label."
   ]
  },
  {
   "cell_type": "code",
   "execution_count": 12,
   "id": "9540334d",
   "metadata": {
    "execution": {
     "iopub.execute_input": "2023-08-31T13:28:13.369406Z",
     "iopub.status.busy": "2023-08-31T13:28:13.368943Z",
     "iopub.status.idle": "2023-08-31T13:28:13.377895Z",
     "shell.execute_reply": "2023-08-31T13:28:13.376767Z"
    },
    "papermill": {
     "duration": 0.027669,
     "end_time": "2023-08-31T13:28:13.380946",
     "exception": false,
     "start_time": "2023-08-31T13:28:13.353277",
     "status": "completed"
    },
    "tags": []
   },
   "outputs": [],
   "source": [
    "# import functions needed to make get_labels work\n",
    "from learntools.intro_to_programming.ex4q5 import excess_sugar, excess_saturated_fat, excess_trans_fat, excess_sodium, excess_calories\n",
    "\n",
    "def get_labels(food_type, serving_size, calories_per_serving, saturated_fat_g, trans_fat_g, sodium_mg, sugars_g):\n",
    "    # Print messages based on findings\n",
    "    if excess_sugar(sugars_g, calories_per_serving) == True:\n",
    "        print(\"EXCESO AZÚCARES / EXCESS SUGAR\")\n",
    "    if excess_saturated_fat(saturated_fat_g, calories_per_serving) == True:\n",
    "        print(\"EXCESO GRASAS SATURADAS / EXCESS SATURATED FAT\")\n",
    "    if excess_trans_fat(trans_fat_g, calories_per_serving) == True:\n",
    "        print(\"EXCESO GRASAS TRANS / EXCESS TRANS FAT\")\n",
    "    if excess_sodium(calories_per_serving, sodium_mg) == True:\n",
    "        print(\"EXCESO SODIO / EXCESS SODIUM\")\n",
    "    if excess_calories(food_type, calories_per_serving, serving_size) == True:\n",
    "        print(\"EXCESO CALORÍAS / EXCESS CALORIES\")\n",
    "    return (excess_sugar,)"
   ]
  },
  {
   "cell_type": "markdown",
   "id": "f3856f21",
   "metadata": {
    "papermill": {
     "duration": 0.013558,
     "end_time": "2023-08-31T13:28:13.408781",
     "exception": false,
     "start_time": "2023-08-31T13:28:13.395223",
     "status": "completed"
    },
    "tags": []
   },
   "source": [
    "The next code cell demonstrates how to use `get_labels()` to get the warning labels that the food item should contain.  We begin with [bologna](https://world.openfoodfacts.org/product/4099100179378/bologna).  Here is [an image](https://storage.googleapis.com/kaggle-media/learn/images/Cfcx72e.png) with all of the nutritional information.  Note that for this food,\n",
    "- `food_type = \"solid\"` (because bologna is a solid and not a liquid)\n",
    "- `serving_size = 32` (the serving size is 32 grams)\n",
    "- `calories_per_serving = 110` (there are 110 calories per serving)\n",
    "- `saturated_fat_g = 2.5` (there are 2.5 grams of saturated fat per serving)\n",
    "- `trans_fat_g = 0` (there are 0 grams of trans fat per serving)\n",
    "- `sodium_mg = 400` (there are 400 mg of sodium per serving)\n",
    "- `sugars_g = 1` (the nutrition facts say <1g, but we will round it up to 1 gram per serving to be safe)\n",
    "\n",
    "By supplying all of these values to the function, we can print the warning labels."
   ]
  },
  {
   "cell_type": "code",
   "execution_count": 13,
   "id": "a37fd515",
   "metadata": {
    "execution": {
     "iopub.execute_input": "2023-08-31T13:28:13.439544Z",
     "iopub.status.busy": "2023-08-31T13:28:13.439117Z",
     "iopub.status.idle": "2023-08-31T13:28:13.447231Z",
     "shell.execute_reply": "2023-08-31T13:28:13.446326Z"
    },
    "papermill": {
     "duration": 0.028304,
     "end_time": "2023-08-31T13:28:13.451522",
     "exception": false,
     "start_time": "2023-08-31T13:28:13.423218",
     "status": "completed"
    },
    "tags": []
   },
   "outputs": [
    {
     "name": "stdout",
     "output_type": "stream",
     "text": [
      "EXCESO GRASAS SATURADAS / EXCESS SATURATED FAT\n",
      "EXCESO SODIO / EXCESS SODIUM\n",
      "EXCESO CALORÍAS / EXCESS CALORIES\n"
     ]
    },
    {
     "data": {
      "text/plain": [
       "(<function learntools.intro_to_programming.ex4q5.excess_sugar(sugars_g, calories_per_serving)>,)"
      ]
     },
     "execution_count": 13,
     "metadata": {},
     "output_type": "execute_result"
    }
   ],
   "source": [
    "# bologna https://world.openfoodfacts.org/product/4099100179378/bologna\n",
    "get_labels(\"solid\", 32, 110, 2.5, 0, 400, 1)"
   ]
  },
  {
   "cell_type": "markdown",
   "id": "4bd6b23a",
   "metadata": {
    "papermill": {
     "duration": 0.015509,
     "end_time": "2023-08-31T13:28:13.481705",
     "exception": false,
     "start_time": "2023-08-31T13:28:13.466196",
     "status": "completed"
    },
    "tags": []
   },
   "source": [
    "This bologna has three labels, printed in the output above.\n",
    "\n",
    "For the rest of this question, you will use the same `get_labels()` function to determine the labels for more foods.  This question is designed to help you get practice with feeling comfortable with code that other people have written, and where you don't have time to review every single line of code before interacting with it.  For instance, when you take the [Intro to Machine Learning course](http://www.kaggle.com/learn/intro-to-machine-learning), you'll work with a Python package called \"scikit-learn\", which is a large collection of code that you'll learn how to run without reviewing all of the code in detail (as it would take too long, and you can trust that it was implemented correctly).\n",
    "\n",
    "In general, as you continue coding in Python, you will often be running code that other people have written.  This is common practice for advanced programmers.\n",
    "\n",
    "In the next code cell, fill in the values for [this cereal](https://world.openfoodfacts.org/product/7501008023624/zucaritas-kellogg-s).  Here is [an image](https://storage.googleapis.com/kaggle-media/learn/images/MUxzHVU.png) with all of the nutritional information.\n",
    "\n",
    "**Note**: running the line of code below as-is will return an error.  You have to fill in the nutritional values first."
   ]
  },
  {
   "cell_type": "code",
   "execution_count": 14,
   "id": "d5f88b54",
   "metadata": {
    "execution": {
     "iopub.execute_input": "2023-08-31T13:28:13.517281Z",
     "iopub.status.busy": "2023-08-31T13:28:13.516860Z",
     "iopub.status.idle": "2023-08-31T13:28:13.527044Z",
     "shell.execute_reply": "2023-08-31T13:28:13.525271Z"
    },
    "papermill": {
     "duration": 0.031546,
     "end_time": "2023-08-31T13:28:13.530431",
     "exception": false,
     "start_time": "2023-08-31T13:28:13.498885",
     "status": "completed"
    },
    "tags": []
   },
   "outputs": [
    {
     "name": "stdout",
     "output_type": "stream",
     "text": [
      "EXCESO GRASAS SATURADAS / EXCESS SATURATED FAT\n",
      "EXCESO SODIO / EXCESS SODIUM\n",
      "EXCESO CALORÍAS / EXCESS CALORIES\n"
     ]
    },
    {
     "data": {
      "text/plain": [
       "(<function learntools.intro_to_programming.ex4q5.excess_sugar(sugars_g, calories_per_serving)>,)"
      ]
     },
     "execution_count": 14,
     "metadata": {},
     "output_type": "execute_result"
    }
   ],
   "source": [
    "# zucaritas cereal https://world.openfoodfacts.org/product/7501008023624/zucaritas-kellogg-s\n",
    "# TODO: Uncomment the line below, fill in the values, and run the function\n",
    "get_labels(\"solid\", 32, 110, 2.5, 0, 400, 1)"
   ]
  },
  {
   "cell_type": "markdown",
   "id": "f41c5818",
   "metadata": {
    "papermill": {
     "duration": 0.014901,
     "end_time": "2023-08-31T13:28:13.561395",
     "exception": false,
     "start_time": "2023-08-31T13:28:13.546494",
     "status": "completed"
    },
    "tags": []
   },
   "source": [
    "Next, try [these mozzarella sticks](https://world-es.openfoodfacts.org/producto/0062325540104/mozzarella-cheese-sticks).  Here is [an image](https://storage.googleapis.com/kaggle-media/learn/images/rcdB7VH.png) with all of the nutritional information."
   ]
  },
  {
   "cell_type": "code",
   "execution_count": 15,
   "id": "96c43676",
   "metadata": {
    "execution": {
     "iopub.execute_input": "2023-08-31T13:28:13.595434Z",
     "iopub.status.busy": "2023-08-31T13:28:13.594647Z",
     "iopub.status.idle": "2023-08-31T13:28:13.606193Z",
     "shell.execute_reply": "2023-08-31T13:28:13.604648Z"
    },
    "papermill": {
     "duration": 0.031705,
     "end_time": "2023-08-31T13:28:13.609120",
     "exception": false,
     "start_time": "2023-08-31T13:28:13.577415",
     "status": "completed"
    },
    "tags": []
   },
   "outputs": [
    {
     "name": "stdout",
     "output_type": "stream",
     "text": [
      "EXCESO GRASAS SATURADAS / EXCESS SATURATED FAT\n",
      "EXCESO SODIO / EXCESS SODIUM\n",
      "EXCESO CALORÍAS / EXCESS CALORIES\n"
     ]
    },
    {
     "data": {
      "text/plain": [
       "(<function learntools.intro_to_programming.ex4q5.excess_sugar(sugars_g, calories_per_serving)>,)"
      ]
     },
     "execution_count": 15,
     "metadata": {},
     "output_type": "execute_result"
    }
   ],
   "source": [
    "# mozzarella sticks https://world-es.openfoodfacts.org/producto/0062325540104/mozzarella-cheese-sticks\n",
    "# TODO: Uncomment the line below, fill in the values, and run the function\n",
    "get_labels(\"solid\", 32, 110, 2.5, 0, 400, 1)"
   ]
  },
  {
   "cell_type": "markdown",
   "id": "502a7599",
   "metadata": {
    "papermill": {
     "duration": 0.014553,
     "end_time": "2023-08-31T13:28:13.638111",
     "exception": false,
     "start_time": "2023-08-31T13:28:13.623558",
     "status": "completed"
    },
    "tags": []
   },
   "source": [
    "Feel free to skip to the end of the notebook now and run `q5.check()` to complete the exercise.  If you want to try more foods, \n",
    "- try [these cookies](https://world.openfoodfacts.org/product/0069700118545/biscuits-au-sucre-pretraches).  Here is [an image](https://storage.googleapis.com/kaggle-media/learn/images/2Bc271o.png) with all of the nutritional information.\n",
    "- try [this soda](https://world-es.openfoodfacts.org/producto/0078000113464/orange-soda-sunkist).  Here is [an image](https://storage.googleapis.com/kaggle-media/learn/images/RsBYa8E.png) with all of the nutritional information.\n",
    "\n",
    "Use the two code cells below for this."
   ]
  },
  {
   "cell_type": "code",
   "execution_count": 16,
   "id": "426d4aa9",
   "metadata": {
    "execution": {
     "iopub.execute_input": "2023-08-31T13:28:13.669518Z",
     "iopub.status.busy": "2023-08-31T13:28:13.669077Z",
     "iopub.status.idle": "2023-08-31T13:28:13.677863Z",
     "shell.execute_reply": "2023-08-31T13:28:13.676377Z"
    },
    "papermill": {
     "duration": 0.028853,
     "end_time": "2023-08-31T13:28:13.681481",
     "exception": false,
     "start_time": "2023-08-31T13:28:13.652628",
     "status": "completed"
    },
    "tags": []
   },
   "outputs": [
    {
     "name": "stdout",
     "output_type": "stream",
     "text": [
      "EXCESO GRASAS SATURADAS / EXCESS SATURATED FAT\n",
      "EXCESO SODIO / EXCESS SODIUM\n",
      "EXCESO CALORÍAS / EXCESS CALORIES\n"
     ]
    },
    {
     "data": {
      "text/plain": [
       "(<function learntools.intro_to_programming.ex4q5.excess_sugar(sugars_g, calories_per_serving)>,)"
      ]
     },
     "execution_count": 16,
     "metadata": {},
     "output_type": "execute_result"
    }
   ],
   "source": [
    "# pillsbury cookies https://world.openfoodfacts.org/product/0069700118545/biscuits-au-sucre-pretraches\n",
    "# TODO: Uncomment the line below, fill in the values, and run the function\n",
    "get_labels(\"solid\", 32, 110, 2.5, 0, 400, 1)"
   ]
  },
  {
   "cell_type": "code",
   "execution_count": 17,
   "id": "33004172",
   "metadata": {
    "execution": {
     "iopub.execute_input": "2023-08-31T13:28:13.714105Z",
     "iopub.status.busy": "2023-08-31T13:28:13.713601Z",
     "iopub.status.idle": "2023-08-31T13:28:13.725145Z",
     "shell.execute_reply": "2023-08-31T13:28:13.723095Z"
    },
    "papermill": {
     "duration": 0.03168,
     "end_time": "2023-08-31T13:28:13.728430",
     "exception": false,
     "start_time": "2023-08-31T13:28:13.696750",
     "status": "completed"
    },
    "tags": []
   },
   "outputs": [
    {
     "name": "stdout",
     "output_type": "stream",
     "text": [
      "EXCESO GRASAS SATURADAS / EXCESS SATURATED FAT\n",
      "EXCESO SODIO / EXCESS SODIUM\n",
      "EXCESO CALORÍAS / EXCESS CALORIES\n"
     ]
    },
    {
     "data": {
      "text/plain": [
       "(<function learntools.intro_to_programming.ex4q5.excess_sugar(sugars_g, calories_per_serving)>,)"
      ]
     },
     "execution_count": 17,
     "metadata": {},
     "output_type": "execute_result"
    }
   ],
   "source": [
    "# sunkist orange soda https://world-es.openfoodfacts.org/producto/0078000113464/orange-soda-sunkist\n",
    "# TODO: Uncomment the line below, fill in the values, and run the function\n",
    "get_labels(\"solid\", 32, 110, 2.5, 0, 400, 1)"
   ]
  },
  {
   "cell_type": "markdown",
   "id": "d106cd24",
   "metadata": {
    "papermill": {
     "duration": 0.015253,
     "end_time": "2023-08-31T13:28:13.761782",
     "exception": false,
     "start_time": "2023-08-31T13:28:13.746529",
     "status": "completed"
    },
    "tags": []
   },
   "source": [
    "Once you have finished investigating the food items in this question, run the final code cell to get credit for completing this problem."
   ]
  },
  {
   "cell_type": "code",
   "execution_count": 18,
   "id": "25a62e66",
   "metadata": {
    "execution": {
     "iopub.execute_input": "2023-08-31T13:28:13.799138Z",
     "iopub.status.busy": "2023-08-31T13:28:13.798621Z",
     "iopub.status.idle": "2023-08-31T13:28:13.808231Z",
     "shell.execute_reply": "2023-08-31T13:28:13.807041Z"
    },
    "papermill": {
     "duration": 0.032293,
     "end_time": "2023-08-31T13:28:13.812058",
     "exception": false,
     "start_time": "2023-08-31T13:28:13.779765",
     "status": "completed"
    },
    "tags": []
   },
   "outputs": [
    {
     "data": {
      "application/javascript": [
       "parent.postMessage({\"jupyterEvent\": \"custom.exercise_interaction\", \"data\": {\"outcomeType\": 1, \"valueTowardsCompletion\": 0.2, \"interactionType\": 1, \"questionType\": 2, \"questionId\": \"5_GetLabels\", \"learnToolsVersion\": \"0.3.4\", \"failureMessage\": \"\", \"exceptionClass\": \"\", \"trace\": \"\"}}, \"*\")"
      ],
      "text/plain": [
       "<IPython.core.display.Javascript object>"
      ]
     },
     "metadata": {},
     "output_type": "display_data"
    },
    {
     "data": {
      "text/markdown": [
       "<span style=\"color:#33cc33\">Once you have determined the labels for all of the food items, you're ready to move on to the next lesson!</span>"
      ],
      "text/plain": [
       "Once you have determined the labels for all of the food items, you're ready to move on to the next lesson!"
      ]
     },
     "metadata": {},
     "output_type": "display_data"
    }
   ],
   "source": [
    "# Get credit for completing the problem\n",
    "q5.check()"
   ]
  },
  {
   "cell_type": "markdown",
   "id": "e2c14184",
   "metadata": {
    "papermill": {
     "duration": 0.017971,
     "end_time": "2023-08-31T13:28:13.847760",
     "exception": false,
     "start_time": "2023-08-31T13:28:13.829789",
     "status": "completed"
    },
    "tags": []
   },
   "source": [
    "# Keep going\n",
    "\n",
    "Continue to the next lesson to **[learn about Python lists](https://www.kaggle.com/alexisbcook/intro-to-lists)**."
   ]
  },
  {
   "cell_type": "markdown",
   "id": "1f57a9de",
   "metadata": {
    "papermill": {
     "duration": 0.015437,
     "end_time": "2023-08-31T13:28:13.879464",
     "exception": false,
     "start_time": "2023-08-31T13:28:13.864027",
     "status": "completed"
    },
    "tags": []
   },
   "source": [
    "---\n",
    "\n",
    "\n",
    "\n",
    "\n",
    "*Have questions or comments? Visit the [course discussion forum](https://www.kaggle.com/learn/intro-to-programming/discussion) to chat with other learners.*"
   ]
  }
 ],
 "kernelspec": {
  "display_name": "Python 3",
  "language": "python",
  "name": "python3"
 },
 "language_info": {
  "codemirror_mode": {
   "name": "ipython",
   "version": 3
  },
  "file_extension": ".py",
  "mimetype": "text/x-python",
  "name": "python",
  "nbconvert_exporter": "python",
  "pygments_lexer": "ipython3",
  "version": "3.6.4"
 },
 "metadata": {
  "kernelspec": {
   "display_name": "Python 3",
   "language": "python",
   "name": "python3"
  },
  "language_info": {
   "codemirror_mode": {
    "name": "ipython",
    "version": 3
   },
   "file_extension": ".py",
   "mimetype": "text/x-python",
   "name": "python",
   "nbconvert_exporter": "python",
   "pygments_lexer": "ipython3",
   "version": "3.10.12"
  },
  "papermill": {
   "default_parameters": {},
   "duration": 17.813537,
   "end_time": "2023-08-31T13:28:15.022833",
   "environment_variables": {},
   "exception": null,
   "input_path": "__notebook__.ipynb",
   "output_path": "__notebook__.ipynb",
   "parameters": {},
   "start_time": "2023-08-31T13:27:57.209296",
   "version": "2.4.0"
  }
 },
 "nbformat": 4,
 "nbformat_minor": 5
}
