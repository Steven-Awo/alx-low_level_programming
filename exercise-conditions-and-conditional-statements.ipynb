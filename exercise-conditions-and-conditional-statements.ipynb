{
 "cells": [
  {
   "cell_type": "markdown",
   "id": "d3b17c46",
   "metadata": {
    "papermill": {
     "duration": 0.008334,
     "end_time": "2023-08-30T13:51:47.724595",
     "exception": false,
     "start_time": "2023-08-30T13:51:47.716261",
     "status": "completed"
    },
    "tags": []
   },
   "source": [
    "**This notebook is an exercise in the [Intro to Programming](https://www.kaggle.com/learn/intro-to-programming) course.  You can reference the tutorial at [this link](https://www.kaggle.com/alexisbcook/conditions-and-conditional-statements).**\n",
    "\n",
    "---\n"
   ]
  },
  {
   "cell_type": "markdown",
   "id": "d7149f1d",
   "metadata": {
    "papermill": {
     "duration": 0.007165,
     "end_time": "2023-08-30T13:51:47.739403",
     "exception": false,
     "start_time": "2023-08-30T13:51:47.732238",
     "status": "completed"
    },
    "tags": []
   },
   "source": [
    "In the tutorial, you learned about conditions and conditional statements. In this exercise, you will use what you learned to answer several questions.\n",
    "\n",
    "# Set up the notebook\n",
    "\n",
    "Run the next code cell without changes to set up the notebook."
   ]
  },
  {
   "cell_type": "code",
   "execution_count": 1,
   "id": "4bb9fa28",
   "metadata": {
    "execution": {
     "iopub.execute_input": "2023-08-30T13:51:47.756493Z",
     "iopub.status.busy": "2023-08-30T13:51:47.755854Z",
     "iopub.status.idle": "2023-08-30T13:51:47.815136Z",
     "shell.execute_reply": "2023-08-30T13:51:47.813408Z"
    },
    "papermill": {
     "duration": 0.071257,
     "end_time": "2023-08-30T13:51:47.818160",
     "exception": false,
     "start_time": "2023-08-30T13:51:47.746903",
     "status": "completed"
    },
    "tags": []
   },
   "outputs": [
    {
     "name": "stdout",
     "output_type": "stream",
     "text": [
      "Setup complete.\n"
     ]
    }
   ],
   "source": [
    "from learntools.core import binder\n",
    "binder.bind(globals())\n",
    "from learntools.intro_to_programming.ex4 import *\n",
    "print('Setup complete.')"
   ]
  },
  {
   "cell_type": "code",
   "execution_count": 2,
   "id": "ffe9af38",
   "metadata": {
    "execution": {
     "iopub.execute_input": "2023-08-30T13:51:47.836195Z",
     "iopub.status.busy": "2023-08-30T13:51:47.835768Z",
     "iopub.status.idle": "2023-08-30T13:51:47.840644Z",
     "shell.execute_reply": "2023-08-30T13:51:47.839904Z"
    },
    "papermill": {
     "duration": 0.018667,
     "end_time": "2023-08-30T13:51:47.844480",
     "exception": false,
     "start_time": "2023-08-30T13:51:47.825813",
     "status": "completed"
    },
    "tags": []
   },
   "outputs": [
    {
     "name": "stdout",
     "output_type": "stream",
     "text": [
      "Setup complete.\n"
     ]
    }
   ],
   "source": [
    "from learntools.core import binder\n",
    "binder.bind(globals())\n",
    "from learntools.intro_to_programming.ex4 import *\n",
    "print('Setup complete.')"
   ]
  },
  {
   "cell_type": "markdown",
   "id": "5db1fbf5",
   "metadata": {
    "papermill": {
     "duration": 0.00897,
     "end_time": "2023-08-30T13:51:47.864929",
     "exception": false,
     "start_time": "2023-08-30T13:51:47.855959",
     "status": "completed"
    },
    "tags": []
   },
   "source": [
    "# Question 1\n",
    "\n",
    "You work at a college admissions office.  When inspecting a dataset of college applicants, you notice that some students have represented their grades with letters (`\"A\"`, `\"B\"`, `\"C\"`, `\"D\"`, `\"F\"`), whereas others have represented their grades with a number between 0 and 100.\n",
    "\n",
    "You realize that for consistency, all of the grades should be formatted in the same way, and you decide to format them all as letters.  For the conversion, you decide to assign:\n",
    "- `\"A\"` - any grade 90-100, inclusive\n",
    "- `\"B\"` - any grade 80-89, inclusive\n",
    "- `\"C\"` - any grade 70-79, inclusive\n",
    "- `\"D\"` - any grade 60-69, inclusive\n",
    "- `\"F\"` - any grade <60\n",
    "\n",
    "Write a function `get_grade()` that takes as input:\n",
    "- `score` - an integer 0-100 corresponding to a numerical grade\n",
    "\n",
    "It should return a Python string with the letter grade that it corresponds to.  For instance,\n",
    "- A score of 85 corresponds to a B grade.  In other words, `get_grade(85)` should return `\"B\"`.\n",
    "- A score of 49 corresponds to an F grade.  In other words, `get_grade(49)` should return `\"F\"`.\n",
    "\n",
    "Make sure that when supplying the grade that is returned by the function, it is enclosed in quotes.  (For instance, if you want to return `\"A\"`, you should write `return \"A\"` and not `return A`.)"
   ]
  },
  {
   "cell_type": "code",
   "execution_count": 3,
   "id": "175bd083",
   "metadata": {
    "execution": {
     "iopub.execute_input": "2023-08-30T13:51:47.885797Z",
     "iopub.status.busy": "2023-08-30T13:51:47.885121Z",
     "iopub.status.idle": "2023-08-30T13:51:47.896305Z",
     "shell.execute_reply": "2023-08-30T13:51:47.895040Z"
    },
    "papermill": {
     "duration": 0.022911,
     "end_time": "2023-08-30T13:51:47.898501",
     "exception": false,
     "start_time": "2023-08-30T13:51:47.875590",
     "status": "completed"
    },
    "tags": []
   },
   "outputs": [
    {
     "data": {
      "application/javascript": [
       "parent.postMessage({\"jupyterEvent\": \"custom.exercise_interaction\", \"data\": {\"outcomeType\": 1, \"valueTowardsCompletion\": 0.2, \"interactionType\": 1, \"questionType\": 2, \"questionId\": \"1_GetGrade\", \"learnToolsVersion\": \"0.3.4\", \"failureMessage\": \"\", \"exceptionClass\": \"\", \"trace\": \"\"}}, \"*\")"
      ],
      "text/plain": [
       "<IPython.core.display.Javascript object>"
      ]
     },
     "metadata": {},
     "output_type": "display_data"
    },
    {
     "data": {
      "text/markdown": [
       "<span style=\"color:#33cc33\">Correct</span>"
      ],
      "text/plain": [
       "Correct"
      ]
     },
     "metadata": {},
     "output_type": "display_data"
    }
   ],
   "source": [
    "# TODO: Edit the function to return the correct grade for different scores\n",
    "def get_grade(score):\n",
    "    if score >= 90 and score <= 100:\n",
    "        grade = \"A\"\n",
    "    elif score >= 80 and score < 90:\n",
    "        grade = \"B\"\n",
    "    elif score >= 70 and score < 80:\n",
    "        grade = \"C\"\n",
    "    elif score >= 60 and score < 70:\n",
    "        grade = \"D\"\n",
    "    else:\n",
    "        grade = \"F\"\n",
    "    return grade\n",
    "    \n",
    "# Check your answer\n",
    "q1.check()"
   ]
  },
  {
   "cell_type": "code",
   "execution_count": 4,
   "id": "9bf45106",
   "metadata": {
    "execution": {
     "iopub.execute_input": "2023-08-30T13:51:47.917071Z",
     "iopub.status.busy": "2023-08-30T13:51:47.916658Z",
     "iopub.status.idle": "2023-08-30T13:51:47.922804Z",
     "shell.execute_reply": "2023-08-30T13:51:47.921177Z"
    },
    "papermill": {
     "duration": 0.018524,
     "end_time": "2023-08-30T13:51:47.925267",
     "exception": false,
     "start_time": "2023-08-30T13:51:47.906743",
     "status": "completed"
    },
    "tags": []
   },
   "outputs": [],
   "source": [
    "# Uncomment to see a hint\n",
    "#q1.hint()\n",
    "\n",
    "# Uncomment to see the solution\n",
    "#q1.solution()"
   ]
  },
  {
   "cell_type": "markdown",
   "id": "b25bf3f0",
   "metadata": {
    "papermill": {
     "duration": 0.008567,
     "end_time": "2023-08-30T13:51:47.942581",
     "exception": false,
     "start_time": "2023-08-30T13:51:47.934014",
     "status": "completed"
    },
    "tags": []
   },
   "source": [
    "# Question 2\n",
    "\n",
    "In the exercise for the previous lesson, you wrote a function `cost_of_project()` that estimated the price of rings for an online shop that sells rings with custom engravings.  This function did not use conditional statements.  In this exercise, you will rewrite the function to use conditional statements.  Recall that the online shop has the following price structure:\n",
    "- Gold plated rings have a base cost of \\\\$50, and you charge \\\\$7 per engraved unit.  \n",
    "- Solid gold rings have a base cost of \\\\$100, and you charge \\\\$10 per engraved unit.\n",
    "- Spaces and punctuation are counted as engraved units.\n",
    "\n",
    "Your function `cost_of_project()` takes two arguments:\n",
    "- `engraving` - a Python string with the text of the engraving\n",
    "- `solid_gold` - a Boolean that indicates whether the ring is solid gold\n",
    "\n",
    "It should return the cost of the project.  \n",
    "\n",
    "The function has been partially completed for you, and you need to fill in the blanks to complete the function."
   ]
  },
  {
   "cell_type": "code",
   "execution_count": 5,
   "id": "c49481ae",
   "metadata": {
    "execution": {
     "iopub.execute_input": "2023-08-30T13:51:47.961716Z",
     "iopub.status.busy": "2023-08-30T13:51:47.961281Z",
     "iopub.status.idle": "2023-08-30T13:51:47.972727Z",
     "shell.execute_reply": "2023-08-30T13:51:47.971221Z"
    },
    "papermill": {
     "duration": 0.024436,
     "end_time": "2023-08-30T13:51:47.975585",
     "exception": false,
     "start_time": "2023-08-30T13:51:47.951149",
     "status": "completed"
    },
    "tags": []
   },
   "outputs": [
    {
     "data": {
      "application/javascript": [
       "parent.postMessage({\"jupyterEvent\": \"custom.exercise_interaction\", \"data\": {\"outcomeType\": 1, \"valueTowardsCompletion\": 0.2, \"interactionType\": 1, \"questionType\": 2, \"questionId\": \"2_CostProjectPartDeux\", \"learnToolsVersion\": \"0.3.4\", \"failureMessage\": \"\", \"exceptionClass\": \"\", \"trace\": \"\"}}, \"*\")"
      ],
      "text/plain": [
       "<IPython.core.display.Javascript object>"
      ]
     },
     "metadata": {},
     "output_type": "display_data"
    },
    {
     "data": {
      "text/markdown": [
       "<span style=\"color:#33cc33\">Correct</span>"
      ],
      "text/plain": [
       "Correct"
      ]
     },
     "metadata": {},
     "output_type": "display_data"
    }
   ],
   "source": [
    "def cost_of_project(engraving, solid_gold):\n",
    "    \n",
    "    if solid_gold == True:\n",
    "        cost = (100 + 10 * len(engraving))\n",
    "    else:\n",
    "        cost = (50 + 7 * len(engraving))\n",
    "    return cost\n",
    "\n",
    "# Check your answer\n",
    "q2.check()"
   ]
  },
  {
   "cell_type": "code",
   "execution_count": 6,
   "id": "92de5b43",
   "metadata": {
    "execution": {
     "iopub.execute_input": "2023-08-30T13:51:47.994808Z",
     "iopub.status.busy": "2023-08-30T13:51:47.994430Z",
     "iopub.status.idle": "2023-08-30T13:51:47.999087Z",
     "shell.execute_reply": "2023-08-30T13:51:47.998000Z"
    },
    "papermill": {
     "duration": 0.017041,
     "end_time": "2023-08-30T13:51:48.001195",
     "exception": false,
     "start_time": "2023-08-30T13:51:47.984154",
     "status": "completed"
    },
    "tags": []
   },
   "outputs": [],
   "source": [
    "# Uncomment to see a hint\n",
    "#q2.hint()\n",
    "\n",
    "# Uncomment to see the solution\n",
    "#q2.solution()"
   ]
  },
  {
   "cell_type": "markdown",
   "id": "e0fee612",
   "metadata": {
    "papermill": {
     "duration": 0.008126,
     "end_time": "2023-08-30T13:51:48.017757",
     "exception": false,
     "start_time": "2023-08-30T13:51:48.009631",
     "status": "completed"
    },
    "tags": []
   },
   "source": [
    "# Question 3\n",
    "\n",
    "You are a programmer at a water agency.  Recently, you have been tasked to write a function `get_water_bill()` that takes as input:\n",
    "- `num_gallons` = the number of gallons of water that a customer used that month.  (This will always be an integer with no decimal part.)\n",
    "\n",
    "It should output the water bill.  \n",
    "\n",
    "The water agency uses this pricing structure:\n",
    "<table style=\"width: 100%;\">\n",
    "<tbody>\n",
    "<tr><th><b>Tier</b></th><th><b>Amount in gallons</b></th><th><b>Price per 1000 gallons</b></th></tr>\n",
    "<tr>\n",
    "<td>Tier 1</td>\n",
    "<td>0 - 8,000</td>\n",
    "<td>\\$5</td>\n",
    "</tr>\n",
    "<tr>\n",
    "<td>Tier 2</td>\n",
    "<td>8,001 - 22,000</td>\n",
    "<td>\\$6</td>\n",
    "</tr>\n",
    "<tr>\n",
    "<td>Tier 3</td>\n",
    "<td>22,001 - 30,000</td>\n",
    "<td>\\$7</td>\n",
    "</tr>\n",
    "<tr>\n",
    "<td>Tier 4</td>\n",
    "<td>30,001+</td>\n",
    "<td>\\$10</td>\n",
    "</tr>\n",
    "</tbody>\n",
    "</table>\n",
    "\n",
    "For example: \n",
    "- Someone who uses 10,000 gallons of water in a month is placed in Tier 2, and needs to pay a water bill of \\\\$6 * 10 = \\\\$60.  In other words, `get_water_bill(10000)` should return `60.0`.\n",
    "- Someone who uses 25,000 gallons of water in a month is placed in Tier 3, and needs to pay a water bill of \\\\$7 * 25 = \\\\$175.  In other words, `get_water_bill(25000)` should return `175.0`.\n",
    "\n",
    "**Do not round your answer.**  So, your answer might return fractions of a penny."
   ]
  },
  {
   "cell_type": "code",
   "execution_count": 7,
   "id": "26e85bfd",
   "metadata": {
    "execution": {
     "iopub.execute_input": "2023-08-30T13:51:48.035801Z",
     "iopub.status.busy": "2023-08-30T13:51:48.035450Z",
     "iopub.status.idle": "2023-08-30T13:51:48.045607Z",
     "shell.execute_reply": "2023-08-30T13:51:48.044277Z"
    },
    "papermill": {
     "duration": 0.022338,
     "end_time": "2023-08-30T13:51:48.048352",
     "exception": false,
     "start_time": "2023-08-30T13:51:48.026014",
     "status": "completed"
    },
    "tags": []
   },
   "outputs": [
    {
     "data": {
      "application/javascript": [
       "parent.postMessage({\"jupyterEvent\": \"custom.exercise_interaction\", \"data\": {\"outcomeType\": 1, \"valueTowardsCompletion\": 0.2, \"interactionType\": 1, \"questionType\": 2, \"questionId\": \"3_GetWaterBill\", \"learnToolsVersion\": \"0.3.4\", \"failureMessage\": \"\", \"exceptionClass\": \"\", \"trace\": \"\"}}, \"*\")"
      ],
      "text/plain": [
       "<IPython.core.display.Javascript object>"
      ]
     },
     "metadata": {},
     "output_type": "display_data"
    },
    {
     "data": {
      "text/markdown": [
       "<span style=\"color:#33cc33\">Correct</span>"
      ],
      "text/plain": [
       "Correct"
      ]
     },
     "metadata": {},
     "output_type": "display_data"
    }
   ],
   "source": [
    "# TODO: Edit the function to return the correct bill for different\n",
    "# values of num_gallons\n",
    "def get_water_bill(num_gallons):\n",
    "    if num_gallons <= 8000:\n",
    "        bill = (num_gallons / 1000) * 5\n",
    "    elif num_gallons > 8000 and num_gallons <= 22000:\n",
    "        bill = (num_gallons / 1000) * 6\n",
    "    elif num_gallons > 22000  and num_gallons <= 30000:\n",
    "        bill = (num_gallons / 1000) * 7\n",
    "    else:\n",
    "        bill = (num_gallons / 1000) * 10 \n",
    "    return bill\n",
    "\n",
    "# Check your answer\n",
    "q3.check()"
   ]
  },
  {
   "cell_type": "code",
   "execution_count": 8,
   "id": "de91b154",
   "metadata": {
    "execution": {
     "iopub.execute_input": "2023-08-30T13:51:48.068678Z",
     "iopub.status.busy": "2023-08-30T13:51:48.068245Z",
     "iopub.status.idle": "2023-08-30T13:51:48.074193Z",
     "shell.execute_reply": "2023-08-30T13:51:48.072653Z"
    },
    "papermill": {
     "duration": 0.018341,
     "end_time": "2023-08-30T13:51:48.076185",
     "exception": false,
     "start_time": "2023-08-30T13:51:48.057844",
     "status": "completed"
    },
    "tags": []
   },
   "outputs": [],
   "source": [
    "# Uncomment to see a hint\n",
    "#q3.hint()\n",
    "\n",
    "# Uncomment to see the solution\n",
    "#q3.solution()"
   ]
  },
  {
   "cell_type": "markdown",
   "id": "c63e4685",
   "metadata": {
    "papermill": {
     "duration": 0.008404,
     "end_time": "2023-08-30T13:51:48.093478",
     "exception": false,
     "start_time": "2023-08-30T13:51:48.085074",
     "status": "completed"
    },
    "tags": []
   },
   "source": [
    "# Question 4\n",
    "\n",
    "You work for a company that provides data services.  For \\\\$100/month, your company provides 15 gigabytes (GB) of data.  Then, any additional data is billed at \\\\$0.10/MB (or \\\\$100/GB, since 1,000 MB are in 1 GB).\n",
    "\n",
    "Use the next code cell to write a function `get_phone_bill()` that takes as input:\n",
    "- `gb` = number of GB that the customer used in a month\n",
    "\n",
    "It should return the customer's total phone bill.\n",
    "\n",
    "For instance:\n",
    "- A customer who uses 10 GB of data in one month is billed only \\\\$100, since the usage stayed under 15 GB.  In other words, `get_phone_bill(10)` should return `100`.\n",
    "- A customer who uses 15.1 GB (or 15 GB + 100 MB) of data in one month has gone over by .1 GB, so they must pay \\\\$100 (cost of plan), plus \\\\$0.10 * 100 = \\\\$10, for a total bill of \\\\$110.  In other words, `get_phone_bill(15.1)` should return `110`.\n",
    "\n",
    "Do not round your answer."
   ]
  },
  {
   "cell_type": "code",
   "execution_count": 9,
   "id": "d0eba56b",
   "metadata": {
    "execution": {
     "iopub.execute_input": "2023-08-30T13:51:48.112652Z",
     "iopub.status.busy": "2023-08-30T13:51:48.112220Z",
     "iopub.status.idle": "2023-08-30T13:51:48.123271Z",
     "shell.execute_reply": "2023-08-30T13:51:48.122221Z"
    },
    "papermill": {
     "duration": 0.023319,
     "end_time": "2023-08-30T13:51:48.125275",
     "exception": false,
     "start_time": "2023-08-30T13:51:48.101956",
     "status": "completed"
    },
    "tags": []
   },
   "outputs": [
    {
     "data": {
      "application/javascript": [
       "parent.postMessage({\"jupyterEvent\": \"custom.exercise_interaction\", \"data\": {\"outcomeType\": 1, \"valueTowardsCompletion\": 0.2, \"interactionType\": 1, \"questionType\": 2, \"questionId\": \"4_GetPhoneBill\", \"learnToolsVersion\": \"0.3.4\", \"failureMessage\": \"\", \"exceptionClass\": \"\", \"trace\": \"\"}}, \"*\")"
      ],
      "text/plain": [
       "<IPython.core.display.Javascript object>"
      ]
     },
     "metadata": {},
     "output_type": "display_data"
    },
    {
     "data": {
      "text/markdown": [
       "<span style=\"color:#33cc33\">Correct</span>"
      ],
      "text/plain": [
       "Correct"
      ]
     },
     "metadata": {},
     "output_type": "display_data"
    }
   ],
   "source": [
    "# TODO: Edit the function to return the correct bill for different\n",
    "# values of GB\n",
    "def get_phone_bill(gb):\n",
    "    if gb > 15:\n",
    "        bill = 100 + ((((gb) - 15) * 1000) * 0.10)\n",
    "    else:\n",
    "        bill = 100\n",
    "    return bill\n",
    "\n",
    "# Check your answer\n",
    "q4.check()"
   ]
  },
  {
   "cell_type": "code",
   "execution_count": 10,
   "id": "a45ab768",
   "metadata": {
    "execution": {
     "iopub.execute_input": "2023-08-30T13:51:48.144895Z",
     "iopub.status.busy": "2023-08-30T13:51:48.144491Z",
     "iopub.status.idle": "2023-08-30T13:51:48.154978Z",
     "shell.execute_reply": "2023-08-30T13:51:48.153981Z"
    },
    "papermill": {
     "duration": 0.023082,
     "end_time": "2023-08-30T13:51:48.156988",
     "exception": false,
     "start_time": "2023-08-30T13:51:48.133906",
     "status": "completed"
    },
    "tags": []
   },
   "outputs": [
    {
     "data": {
      "application/javascript": [
       "parent.postMessage({\"jupyterEvent\": \"custom.exercise_interaction\", \"data\": {\"outcomeType\": 1, \"valueTowardsCompletion\": 0.2, \"interactionType\": 1, \"questionType\": 2, \"questionId\": \"4_GetPhoneBill\", \"learnToolsVersion\": \"0.3.4\", \"failureMessage\": \"\", \"exceptionClass\": \"\", \"trace\": \"\"}}, \"*\")"
      ],
      "text/plain": [
       "<IPython.core.display.Javascript object>"
      ]
     },
     "metadata": {},
     "output_type": "display_data"
    },
    {
     "data": {
      "text/markdown": [
       "<span style=\"color:#33cc33\">Correct</span>"
      ],
      "text/plain": [
       "Correct"
      ]
     },
     "metadata": {},
     "output_type": "display_data"
    }
   ],
   "source": [
    "# TODO: Edit the function to return the correct bill for different\n",
    "# values of GB\n",
    "def get_phone_bill(gb):\n",
    "    if gb > 15:\n",
    "        bill = 100 + ((((gb) - 15) * 1000) * 0.10)\n",
    "    else:\n",
    "        bill = 100\n",
    "    return bill\n",
    "\n",
    "# Check your answer\n",
    "q4.check()"
   ]
  },
  {
   "cell_type": "code",
   "execution_count": 11,
   "id": "76c66e4d",
   "metadata": {
    "execution": {
     "iopub.execute_input": "2023-08-30T13:51:48.179251Z",
     "iopub.status.busy": "2023-08-30T13:51:48.178755Z",
     "iopub.status.idle": "2023-08-30T13:51:48.183937Z",
     "shell.execute_reply": "2023-08-30T13:51:48.182403Z"
    },
    "papermill": {
     "duration": 0.0191,
     "end_time": "2023-08-30T13:51:48.186317",
     "exception": false,
     "start_time": "2023-08-30T13:51:48.167217",
     "status": "completed"
    },
    "tags": []
   },
   "outputs": [],
   "source": [
    "# Uncomment to see a hint\n",
    "#q4.hint()\n",
    "\n",
    "# Uncomment to see the solution\n",
    "#q4.solution()"
   ]
  },
  {
   "cell_type": "markdown",
   "id": "7884c7ed",
   "metadata": {
    "papermill": {
     "duration": 0.008535,
     "end_time": "2023-08-30T13:51:48.204968",
     "exception": false,
     "start_time": "2023-08-30T13:51:48.196433",
     "status": "completed"
    },
    "tags": []
   },
   "source": [
    "# 🌶️ Question 5\n",
    "\n",
    "In Mexico, foods and beverages that are high in saturated fat, trans fat, sugar, sodium, and/or calories appear with warning labels that are designed to help consumers make healthy food choices.\n",
    "\n",
    "For instance, the [box of cookies](https://world.openfoodfacts.org/product/7501000673209/florentinas-gamesa) in the image below appears with two labels (in the upper right corner):\n",
    "- EXCESO CALORÍAS (in English, EXCESS CALORIES)\n",
    "- EXCESO AZÚCARES (in English, EXCESS SUGAR)\n",
    "\n",
    "<center><img src=\"https://storage.googleapis.com/kaggle-media/learn/images/VXYKHnM.png\" alt=\"drawing\" width=\"500\"/></center>\n",
    "\n",
    "In this question, you'll work with a function `get_labels()` that takes the nutritional details about a food item and prints the needed warning labels.  This function takes several inputs:\n",
    "- `food_type` = one of `\"solid\"` or `\"liquid\"`\n",
    "- `serving_size` = size of one serving (if solid, in grams; if liquid, in milliliters)\n",
    "- `calories_per_serving` = calories in one serving\n",
    "- `saturated_fat_g` = grams of saturated fat in one serving\n",
    "- `trans_fat_g` = grams of trans fat in one serving\n",
    "- `sodium_mg` = mg of sodium in one serving\n",
    "- `sugars_g` = grams of sugar in one serving\n",
    "\n",
    "Note that some of the code here should feel unfamiliar to you, since we have not shared the details of how some of the functions like `excess_sugar()` or `excess_saturated_fat()` work.  But at a high level, these are functions that return a value of `True` if the food is deemed to have an excess of sugar or saturated fat, respectively.  These functions are used within the `get_labels()` function, and whenever there is an excess (of sugar or saturated fat, but also of trans fat, sodium, or calories), it prints the corresponding label."
   ]
  },
  {
   "cell_type": "code",
   "execution_count": 12,
   "id": "6ac2d79a",
   "metadata": {
    "execution": {
     "iopub.execute_input": "2023-08-30T13:51:48.224939Z",
     "iopub.status.busy": "2023-08-30T13:51:48.224619Z",
     "iopub.status.idle": "2023-08-30T13:51:48.233980Z",
     "shell.execute_reply": "2023-08-30T13:51:48.232431Z"
    },
    "papermill": {
     "duration": 0.022404,
     "end_time": "2023-08-30T13:51:48.236221",
     "exception": false,
     "start_time": "2023-08-30T13:51:48.213817",
     "status": "completed"
    },
    "tags": []
   },
   "outputs": [],
   "source": [
    "# import functions needed to make get_labels work\n",
    "from learntools.intro_to_programming.ex4q5 import excess_sugar, excess_saturated_fat, excess_trans_fat, excess_sodium, excess_calories\n",
    "\n",
    "def get_labels(food_type, serving_size, calories_per_serving, saturated_fat_g, trans_fat_g, sodium_mg, sugars_g):\n",
    "    # Print messages based on findings\n",
    "    if excess_sugar(sugars_g, calories_per_serving) == True:\n",
    "        print(\"EXCESO AZÚCARES / EXCESS SUGAR\")\n",
    "    if excess_saturated_fat(saturated_fat_g, calories_per_serving) == True:\n",
    "        print(\"EXCESO GRASAS SATURADAS / EXCESS SATURATED FAT\")\n",
    "    if excess_trans_fat(trans_fat_g, calories_per_serving) == True:\n",
    "        print(\"EXCESO GRASAS TRANS / EXCESS TRANS FAT\")\n",
    "    if excess_sodium(calories_per_serving, sodium_mg) == True:\n",
    "        print(\"EXCESO SODIO / EXCESS SODIUM\")\n",
    "    if excess_calories(food_type, calories_per_serving, serving_size) == True:\n",
    "        print(\"EXCESO CALORÍAS / EXCESS CALORIES\")\n",
    "    return (excess_sugar,)"
   ]
  },
  {
   "cell_type": "markdown",
   "id": "b22db4a7",
   "metadata": {
    "papermill": {
     "duration": 0.008511,
     "end_time": "2023-08-30T13:51:48.253809",
     "exception": false,
     "start_time": "2023-08-30T13:51:48.245298",
     "status": "completed"
    },
    "tags": []
   },
   "source": [
    "The next code cell demonstrates how to use `get_labels()` to get the warning labels that the food item should contain.  We begin with [bologna](https://world.openfoodfacts.org/product/4099100179378/bologna).  Here is [an image](https://storage.googleapis.com/kaggle-media/learn/images/Cfcx72e.png) with all of the nutritional information.  Note that for this food,\n",
    "- `food_type = \"solid\"` (because bologna is a solid and not a liquid)\n",
    "- `serving_size = 32` (the serving size is 32 grams)\n",
    "- `calories_per_serving = 110` (there are 110 calories per serving)\n",
    "- `saturated_fat_g = 2.5` (there are 2.5 grams of saturated fat per serving)\n",
    "- `trans_fat_g = 0` (there are 0 grams of trans fat per serving)\n",
    "- `sodium_mg = 400` (there are 400 mg of sodium per serving)\n",
    "- `sugars_g = 1` (the nutrition facts say <1g, but we will round it up to 1 gram per serving to be safe)\n",
    "\n",
    "By supplying all of these values to the function, we can print the warning labels."
   ]
  },
  {
   "cell_type": "code",
   "execution_count": 13,
   "id": "2b58b537",
   "metadata": {
    "execution": {
     "iopub.execute_input": "2023-08-30T13:51:48.273045Z",
     "iopub.status.busy": "2023-08-30T13:51:48.272623Z",
     "iopub.status.idle": "2023-08-30T13:51:48.280492Z",
     "shell.execute_reply": "2023-08-30T13:51:48.278402Z"
    },
    "papermill": {
     "duration": 0.020363,
     "end_time": "2023-08-30T13:51:48.282803",
     "exception": false,
     "start_time": "2023-08-30T13:51:48.262440",
     "status": "completed"
    },
    "tags": []
   },
   "outputs": [
    {
     "name": "stdout",
     "output_type": "stream",
     "text": [
      "EXCESO GRASAS SATURADAS / EXCESS SATURATED FAT\n",
      "EXCESO SODIO / EXCESS SODIUM\n",
      "EXCESO CALORÍAS / EXCESS CALORIES\n"
     ]
    },
    {
     "data": {
      "text/plain": [
       "(<function learntools.intro_to_programming.ex4q5.excess_sugar(sugars_g, calories_per_serving)>,)"
      ]
     },
     "execution_count": 13,
     "metadata": {},
     "output_type": "execute_result"
    }
   ],
   "source": [
    "# bologna https://world.openfoodfacts.org/product/4099100179378/bologna\n",
    "get_labels(\"solid\", 32, 110, 2.5, 0, 400, 1)"
   ]
  },
  {
   "cell_type": "markdown",
   "id": "64b7f4dd",
   "metadata": {
    "papermill": {
     "duration": 0.009238,
     "end_time": "2023-08-30T13:51:48.303430",
     "exception": false,
     "start_time": "2023-08-30T13:51:48.294192",
     "status": "completed"
    },
    "tags": []
   },
   "source": [
    "This bologna has three labels, printed in the output above.\n",
    "\n",
    "For the rest of this question, you will use the same `get_labels()` function to determine the labels for more foods.  This question is designed to help you get practice with feeling comfortable with code that other people have written, and where you don't have time to review every single line of code before interacting with it.  For instance, when you take the [Intro to Machine Learning course](http://www.kaggle.com/learn/intro-to-machine-learning), you'll work with a Python package called \"scikit-learn\", which is a large collection of code that you'll learn how to run without reviewing all of the code in detail (as it would take too long, and you can trust that it was implemented correctly).\n",
    "\n",
    "In general, as you continue coding in Python, you will often be running code that other people have written.  This is common practice for advanced programmers.\n",
    "\n",
    "In the next code cell, fill in the values for [this cereal](https://world.openfoodfacts.org/product/7501008023624/zucaritas-kellogg-s).  Here is [an image](https://storage.googleapis.com/kaggle-media/learn/images/MUxzHVU.png) with all of the nutritional information.\n",
    "\n",
    "**Note**: running the line of code below as-is will return an error.  You have to fill in the nutritional values first."
   ]
  },
  {
   "cell_type": "code",
   "execution_count": 14,
   "id": "16e4ac4c",
   "metadata": {
    "execution": {
     "iopub.execute_input": "2023-08-30T13:51:48.324315Z",
     "iopub.status.busy": "2023-08-30T13:51:48.323907Z",
     "iopub.status.idle": "2023-08-30T13:51:48.331245Z",
     "shell.execute_reply": "2023-08-30T13:51:48.329751Z"
    },
    "papermill": {
     "duration": 0.021321,
     "end_time": "2023-08-30T13:51:48.333993",
     "exception": false,
     "start_time": "2023-08-30T13:51:48.312672",
     "status": "completed"
    },
    "tags": []
   },
   "outputs": [
    {
     "name": "stdout",
     "output_type": "stream",
     "text": [
      "EXCESO GRASAS SATURADAS / EXCESS SATURATED FAT\n",
      "EXCESO SODIO / EXCESS SODIUM\n",
      "EXCESO CALORÍAS / EXCESS CALORIES\n"
     ]
    },
    {
     "data": {
      "text/plain": [
       "(<function learntools.intro_to_programming.ex4q5.excess_sugar(sugars_g, calories_per_serving)>,)"
      ]
     },
     "execution_count": 14,
     "metadata": {},
     "output_type": "execute_result"
    }
   ],
   "source": [
    "# zucaritas cereal https://world.openfoodfacts.org/product/7501008023624/zucaritas-kellogg-s\n",
    "# TODO: Uncomment the line below, fill in the values, and run the function\n",
    "get_labels(\"solid\", 32, 110, 2.5, 0, 400, 1)"
   ]
  },
  {
   "cell_type": "markdown",
   "id": "483eb86d",
   "metadata": {
    "papermill": {
     "duration": 0.009628,
     "end_time": "2023-08-30T13:51:48.353945",
     "exception": false,
     "start_time": "2023-08-30T13:51:48.344317",
     "status": "completed"
    },
    "tags": []
   },
   "source": [
    "Next, try [these mozzarella sticks](https://world-es.openfoodfacts.org/producto/0062325540104/mozzarella-cheese-sticks).  Here is [an image](https://storage.googleapis.com/kaggle-media/learn/images/rcdB7VH.png) with all of the nutritional information."
   ]
  },
  {
   "cell_type": "code",
   "execution_count": 15,
   "id": "072f144a",
   "metadata": {
    "execution": {
     "iopub.execute_input": "2023-08-30T13:51:48.376249Z",
     "iopub.status.busy": "2023-08-30T13:51:48.375780Z",
     "iopub.status.idle": "2023-08-30T13:51:48.384439Z",
     "shell.execute_reply": "2023-08-30T13:51:48.383223Z"
    },
    "papermill": {
     "duration": 0.02237,
     "end_time": "2023-08-30T13:51:48.386231",
     "exception": false,
     "start_time": "2023-08-30T13:51:48.363861",
     "status": "completed"
    },
    "tags": []
   },
   "outputs": [
    {
     "name": "stdout",
     "output_type": "stream",
     "text": [
      "EXCESO GRASAS SATURADAS / EXCESS SATURATED FAT\n",
      "EXCESO SODIO / EXCESS SODIUM\n",
      "EXCESO CALORÍAS / EXCESS CALORIES\n"
     ]
    },
    {
     "data": {
      "text/plain": [
       "(<function learntools.intro_to_programming.ex4q5.excess_sugar(sugars_g, calories_per_serving)>,)"
      ]
     },
     "execution_count": 15,
     "metadata": {},
     "output_type": "execute_result"
    }
   ],
   "source": [
    "# mozzarella sticks https://world-es.openfoodfacts.org/producto/0062325540104/mozzarella-cheese-sticks\n",
    "# TODO: Uncomment the line below, fill in the values, and run the function\n",
    "get_labels(\"solid\", 32, 110, 2.5, 0, 400, 1)"
   ]
  },
  {
   "cell_type": "markdown",
   "id": "24b4eea5",
   "metadata": {
    "papermill": {
     "duration": 0.009111,
     "end_time": "2023-08-30T13:51:48.405279",
     "exception": false,
     "start_time": "2023-08-30T13:51:48.396168",
     "status": "completed"
    },
    "tags": []
   },
   "source": [
    "Feel free to skip to the end of the notebook now and run `q5.check()` to complete the exercise.  If you want to try more foods, \n",
    "- try [these cookies](https://world.openfoodfacts.org/product/0069700118545/biscuits-au-sucre-pretraches).  Here is [an image](https://storage.googleapis.com/kaggle-media/learn/images/2Bc271o.png) with all of the nutritional information.\n",
    "- try [this soda](https://world-es.openfoodfacts.org/producto/0078000113464/orange-soda-sunkist).  Here is [an image](https://storage.googleapis.com/kaggle-media/learn/images/RsBYa8E.png) with all of the nutritional information.\n",
    "\n",
    "Use the two code cells below for this."
   ]
  },
  {
   "cell_type": "code",
   "execution_count": 16,
   "id": "f920ac95",
   "metadata": {
    "execution": {
     "iopub.execute_input": "2023-08-30T13:51:48.427398Z",
     "iopub.status.busy": "2023-08-30T13:51:48.426941Z",
     "iopub.status.idle": "2023-08-30T13:51:48.434148Z",
     "shell.execute_reply": "2023-08-30T13:51:48.433116Z"
    },
    "papermill": {
     "duration": 0.021384,
     "end_time": "2023-08-30T13:51:48.436248",
     "exception": false,
     "start_time": "2023-08-30T13:51:48.414864",
     "status": "completed"
    },
    "tags": []
   },
   "outputs": [
    {
     "name": "stdout",
     "output_type": "stream",
     "text": [
      "EXCESO GRASAS SATURADAS / EXCESS SATURATED FAT\n",
      "EXCESO SODIO / EXCESS SODIUM\n",
      "EXCESO CALORÍAS / EXCESS CALORIES\n"
     ]
    },
    {
     "data": {
      "text/plain": [
       "(<function learntools.intro_to_programming.ex4q5.excess_sugar(sugars_g, calories_per_serving)>,)"
      ]
     },
     "execution_count": 16,
     "metadata": {},
     "output_type": "execute_result"
    }
   ],
   "source": [
    "# pillsbury cookies https://world.openfoodfacts.org/product/0069700118545/biscuits-au-sucre-pretraches\n",
    "# TODO: Uncomment the line below, fill in the values, and run the function\n",
    "get_labels(\"solid\", 32, 110, 2.5, 0, 400, 1)"
   ]
  },
  {
   "cell_type": "code",
   "execution_count": 17,
   "id": "0bc63f27",
   "metadata": {
    "execution": {
     "iopub.execute_input": "2023-08-30T13:51:48.458936Z",
     "iopub.status.busy": "2023-08-30T13:51:48.458528Z",
     "iopub.status.idle": "2023-08-30T13:51:48.466122Z",
     "shell.execute_reply": "2023-08-30T13:51:48.464537Z"
    },
    "papermill": {
     "duration": 0.021349,
     "end_time": "2023-08-30T13:51:48.468084",
     "exception": false,
     "start_time": "2023-08-30T13:51:48.446735",
     "status": "completed"
    },
    "tags": []
   },
   "outputs": [
    {
     "name": "stdout",
     "output_type": "stream",
     "text": [
      "EXCESO GRASAS SATURADAS / EXCESS SATURATED FAT\n",
      "EXCESO SODIO / EXCESS SODIUM\n",
      "EXCESO CALORÍAS / EXCESS CALORIES\n"
     ]
    },
    {
     "data": {
      "text/plain": [
       "(<function learntools.intro_to_programming.ex4q5.excess_sugar(sugars_g, calories_per_serving)>,)"
      ]
     },
     "execution_count": 17,
     "metadata": {},
     "output_type": "execute_result"
    }
   ],
   "source": [
    "# sunkist orange soda https://world-es.openfoodfacts.org/producto/0078000113464/orange-soda-sunkist\n",
    "# TODO: Uncomment the line below, fill in the values, and run the function\n",
    "get_labels(\"solid\", 32, 110, 2.5, 0, 400, 1)"
   ]
  },
  {
   "cell_type": "markdown",
   "id": "7bc80167",
   "metadata": {
    "papermill": {
     "duration": 0.010735,
     "end_time": "2023-08-30T13:51:48.489453",
     "exception": false,
     "start_time": "2023-08-30T13:51:48.478718",
     "status": "completed"
    },
    "tags": []
   },
   "source": [
    "Once you have finished investigating the food items in this question, run the final code cell to get credit for completing this problem."
   ]
  },
  {
   "cell_type": "code",
   "execution_count": 18,
   "id": "7becf5f5",
   "metadata": {
    "execution": {
     "iopub.execute_input": "2023-08-30T13:51:48.511627Z",
     "iopub.status.busy": "2023-08-30T13:51:48.511243Z",
     "iopub.status.idle": "2023-08-30T13:51:48.520227Z",
     "shell.execute_reply": "2023-08-30T13:51:48.518797Z"
    },
    "papermill": {
     "duration": 0.022557,
     "end_time": "2023-08-30T13:51:48.522430",
     "exception": false,
     "start_time": "2023-08-30T13:51:48.499873",
     "status": "completed"
    },
    "tags": []
   },
   "outputs": [
    {
     "data": {
      "application/javascript": [
       "parent.postMessage({\"jupyterEvent\": \"custom.exercise_interaction\", \"data\": {\"outcomeType\": 1, \"valueTowardsCompletion\": 0.2, \"interactionType\": 1, \"questionType\": 2, \"questionId\": \"5_GetLabels\", \"learnToolsVersion\": \"0.3.4\", \"failureMessage\": \"\", \"exceptionClass\": \"\", \"trace\": \"\"}}, \"*\")"
      ],
      "text/plain": [
       "<IPython.core.display.Javascript object>"
      ]
     },
     "metadata": {},
     "output_type": "display_data"
    },
    {
     "data": {
      "text/markdown": [
       "<span style=\"color:#33cc33\">Once you have determined the labels for all of the food items, you're ready to move on to the next lesson!</span>"
      ],
      "text/plain": [
       "Once you have determined the labels for all of the food items, you're ready to move on to the next lesson!"
      ]
     },
     "metadata": {},
     "output_type": "display_data"
    }
   ],
   "source": [
    "# Get credit for completing the problem\n",
    "q5.check()"
   ]
  },
  {
   "cell_type": "markdown",
   "id": "558b8777",
   "metadata": {
    "papermill": {
     "duration": 0.010106,
     "end_time": "2023-08-30T13:51:48.543102",
     "exception": false,
     "start_time": "2023-08-30T13:51:48.532996",
     "status": "completed"
    },
    "tags": []
   },
   "source": [
    "# Keep going\n",
    "\n",
    "Continue to the next lesson to **[learn about Python lists](https://www.kaggle.com/alexisbcook/intro-to-lists)**."
   ]
  },
  {
   "cell_type": "markdown",
   "id": "7fe1de7a",
   "metadata": {
    "papermill": {
     "duration": 0.01032,
     "end_time": "2023-08-30T13:51:48.564157",
     "exception": false,
     "start_time": "2023-08-30T13:51:48.553837",
     "status": "completed"
    },
    "tags": []
   },
   "source": [
    "---\n",
    "\n",
    "\n",
    "\n",
    "\n",
    "*Have questions or comments? Visit the [course discussion forum](https://www.kaggle.com/learn/intro-to-programming/discussion) to chat with other learners.*"
   ]
  }
 ],
 "kernelspec": {
  "display_name": "Python 3",
  "language": "python",
  "name": "python3"
 },
 "language_info": {
  "codemirror_mode": {
   "name": "ipython",
   "version": 3
  },
  "file_extension": ".py",
  "mimetype": "text/x-python",
  "name": "python",
  "nbconvert_exporter": "python",
  "pygments_lexer": "ipython3",
  "version": "3.6.4"
 },
 "metadata": {
  "kernelspec": {
   "display_name": "Python 3",
   "language": "python",
   "name": "python3"
  },
  "language_info": {
   "codemirror_mode": {
    "name": "ipython",
    "version": 3
   },
   "file_extension": ".py",
   "mimetype": "text/x-python",
   "name": "python",
   "nbconvert_exporter": "python",
   "pygments_lexer": "ipython3",
   "version": "3.10.12"
  },
  "papermill": {
   "default_parameters": {},
   "duration": 12.031397,
   "end_time": "2023-08-30T13:51:49.600996",
   "environment_variables": {},
   "exception": null,
   "input_path": "__notebook__.ipynb",
   "output_path": "__notebook__.ipynb",
   "parameters": {},
   "start_time": "2023-08-30T13:51:37.569599",
   "version": "2.4.0"
  }
 },
 "nbformat": 4,
 "nbformat_minor": 5
}
